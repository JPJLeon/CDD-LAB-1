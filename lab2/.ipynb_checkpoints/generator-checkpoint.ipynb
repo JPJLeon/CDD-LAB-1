{
 "cells": [
  {
   "cell_type": "code",
   "execution_count": 1,
   "metadata": {},
   "outputs": [],
   "source": [
    "%matplotlib inline\n",
    "import numpy as np\n",
    "import matplotlib.pyplot as plt"
   ]
  },
  {
   "cell_type": "code",
   "execution_count": 6,
   "metadata": {},
   "outputs": [],
   "source": [
    "N = 4     # Numero de filas\n",
    "M = 6     # Numero de columnas"
   ]
  },
  {
   "cell_type": "code",
   "execution_count": 8,
   "metadata": {},
   "outputs": [],
   "source": [
    "# Creacion malla inicial\n",
    "\n",
    "Alpha = 10   # Mientras mas grande, menos particulas \n",
    "x = np.linspace(0,M-1,M)\n",
    "y = np.linspace(0,N-1,N)\n",
    "x,y = np.meshgrid(x,y)\n",
    "\n",
    "f0x = np.zeros((N,M), dtype=int)\n",
    "f0y = np.zeros((N,M), dtype=int)\n",
    "f0x[1:N-1,1:M-1] = np.random.randint(Alpha,size=(N-2,M-2))\n",
    "f0x[np.where(f0x!=1)] = 0\n",
    "\n",
    "f1x = np.zeros((N,M), dtype=int)\n",
    "f1y = np.zeros((N,M), dtype=int)\n",
    "f1y[1:N-1,1:M-1] = np.random.randint(Alpha,size=(N-2,M-2))\n",
    "f1y[np.where(f1y!=1)] = 0\n",
    "\n",
    "f2x = np.zeros((N,M), dtype=int)\n",
    "f2y = np.zeros((N,M), dtype=int)\n",
    "f2x[1:N-1,1:M-1] = -np.random.randint(Alpha,size=(N-2,M-2))\n",
    "f2x[np.where(f2x!=-1)] = 0\n",
    "\n",
    "f3x = np.zeros((N,M), dtype=int)\n",
    "f3y = np.zeros((N,M), dtype=int)\n",
    "f3y[1:N-1,1:M-1] = -np.random.randint(Alpha,size=(N-2,M-2))\n",
    "f3y[np.where(f3y!=-1)] = 0"
   ]
  },
  {
   "cell_type": "code",
   "execution_count": 8,
   "metadata": {},
   "outputs": [],
   "source": [
    "# Escritura de archivo\n",
    "\n",
    "a = open('initial.txt', 'w')\n",
    "a.write(str(N)+' '+str(M)+'\\n')\n",
    "a.write(' '.join(list(map(str,list(f0x.reshape(N*M)))))+'\\n')\n",
    "a.write(' '.join(list(map(str,list(f1y.reshape(N*M)))))+'\\n')\n",
    "a.write(' '.join(list(map(str,list(-f2x.reshape(N*M)))))+'\\n')\n",
    "a.write(' '.join(list(map(str,list(-f3y.reshape(N*M)))))+'\\n')\n",
    "a.close()"
   ]
  },
  {
   "cell_type": "code",
   "execution_count": 81,
   "metadata": {},
   "outputs": [],
   "source": [
    "# Lectura de archivo (resultados)\n",
    "\n",
    "name = 'initial.txt' # Cambiar por su archivo de salida (si genera varios tiempos considere utilizar un for)\n",
    "a = open(name)\n",
    "N,M = map(int,a.readline().strip().split())\n",
    "f0x = np.array(list(map(int,a.readline().strip().split()))).reshape((N,M))\n",
    "f1y = np.array(list(map(int,a.readline().strip().split()))).reshape((N,M))\n",
    "f2x = -np.array(list(map(int,a.readline().strip().split()))).reshape((N,M))\n",
    "f3y = -np.array(list(map(int,a.readline().strip().split()))).reshape((N,M))\n",
    "a.close()\n",
    "f0y = np.zeros((N,M))\n",
    "f1x = np.zeros((N,M))\n",
    "f2y = np.zeros((N,M))\n",
    "f3x = np.zeros((N,M))"
   ]
  },
  {
   "cell_type": "code",
   "execution_count": 82,
   "metadata": {},
   "outputs": [
    {
     "data": {
      "image/png": "[encoded data removed]",
      "text/plain": [
       "<Figure size 720x720 with 1 Axes>"
      ]
     },
     "metadata": {
      "needs_background": "light"
     },
     "output_type": "display_data"
    }
   ],
   "source": [
    "plt.figure(figsize=(10,10))\n",
    "plt.quiver(x,y,f0x,f0y,scale=20)\n",
    "plt.quiver(x,y,f1x,f1y,scale=20)\n",
    "plt.quiver(x,y,f2x,f2y,scale=20)\n",
    "plt.quiver(x,y,f3x,f3y,scale=20)\n",
    "plt.show()"
   ]
  },
  {
   "cell_type": "code",
   "execution_count": null,
   "metadata": {},
   "outputs": [],
   "source": []
  }
 ],
 "metadata": {
  "kernelspec": {
   "display_name": "Python 3",
   "language": "python",
   "name": "python3"
  },
  "language_info": {
   "codemirror_mode": {
    "name": "ipython",
    "version": 3
   },
   "file_extension": ".py",
   "mimetype": "text/x-python",
   "name": "python",
   "nbconvert_exporter": "python",
   "pygments_lexer": "ipython3",
   "version": "3.7.4"
  }
 },
 "nbformat": 4,
 "nbformat_minor": 2
}
