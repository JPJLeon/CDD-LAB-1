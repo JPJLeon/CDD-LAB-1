{
 "cells": [
  {
   "cell_type": "code",
   "execution_count": 30,
   "metadata": {},
   "outputs": [],
   "source": [
    "import matplotlib.pyplot as mpimg\n",
    "import numpy as np\n",
    "import random\n",
    "from PIL import Image"
   ]
  },
  {
   "cell_type": "code",
   "execution_count": 31,
   "metadata": {},
   "outputs": [],
   "source": [
    "def GenFiles(name):\n",
    "    img = Image.open(name)\n",
    "    for size in [100, 200, 400, 800, 1600]:\n",
    "        img2 = img.resize((size, size), Image.ANTIALIAS)\n",
    "        name = 'img%dx%d'%(size,size)\n",
    "        img2.save(name+'.png')\n",
    "        img2 = mpimg.imread(name+'.png')\n",
    "        pieces = random.choice([4, 5, 10, 20, 50])\n",
    "        l = list(range(pieces**2))\n",
    "        random.shuffle(l)\n",
    "        h = str(size)+' '+str(size//pieces)+'\\n'+' '.join(list(map(str,l)))\n",
    "        RGB = np.array([img2[:,:,i].reshape(size*size) for i in range(3)])\n",
    "        np.savetxt(name+'.txt', RGB, fmt='%.8f', delimiter=' ', header=h, comments='')"
   ]
  },
  {
   "cell_type": "code",
   "execution_count": 32,
   "metadata": {},
   "outputs": [],
   "source": [
    "# Generar archivos de texto\n",
    "# Considere que si su imagen no es cuadrada, el resultado se vera deformado\n",
    "\n",
    "GenFiles('img.png')"
   ]
  },
  {
   "cell_type": "code",
   "execution_count": 33,
   "metadata": {},
   "outputs": [],
   "source": [
    "def TXTtoRGB(name):\n",
    "    RGB = np.loadtxt(name+'.txt', delimiter=' ', skiprows = 1)\n",
    "    with open(name+'.txt') as imgfile:\n",
    "        N = int(imgfile.readline().strip())\n",
    "    img = np.ones((N,N,4))\n",
    "    for i in range(3):\n",
    "        img[:,:,i] = RGB[i].reshape((N,N)) \n",
    "    mpimg.imsave(name+'_fromfile.png', img)"
   ]
  },
  {
   "cell_type": "code",
   "execution_count": 34,
   "metadata": {},
   "outputs": [],
   "source": [
    "# Generar imagenes\n",
    "# Debe tener los 10 archivos generados\n",
    "# Ejemplo de nombres: img100x100CPU.txt y img100x100GPU.txt\n",
    "\n",
    "for size in [100, 200, 400, 800, 1600]:\n",
    "    TXTtoRGB('img%dx%dCPU'%(size,size))\n",
    "    TXTtoRGB('img%dx%dGPU'%(size,size))"
   ]
  }
 ],
 "metadata": {
  "kernelspec": {
   "display_name": "Python 3",
   "language": "python",
   "name": "python3"
  },
  "language_info": {
   "codemirror_mode": {
    "name": "ipython",
    "version": 3
   },
   "file_extension": ".py",
   "mimetype": "text/x-python",
   "name": "python",
   "nbconvert_exporter": "python",
   "pygments_lexer": "ipython3",
   "version": "3.7.4"
  }
 },
 "nbformat": 4,
 "nbformat_minor": 4
}
